{
 "cells": [
  {
   "cell_type": "markdown",
   "metadata": {},
   "source": [
    "#### Смешиваем файл голоса с шумом"
   ]
  },
  {
   "cell_type": "code",
   "execution_count": 4,
   "metadata": {},
   "outputs": [],
   "source": [
    "import soundfile\n",
    "import librosa \n",
    "\n",
    "from dsp import mixer"
   ]
  },
  {
   "cell_type": "code",
   "execution_count": 11,
   "metadata": {},
   "outputs": [],
   "source": [
    "SAMPLE_RATE = 48000\n",
    "\n",
    "test_signal, test_file_rate = soundfile.read('../data/test/gt.wav')\n",
    "noise, noise_rate = soundfile.read('../data/461143__15gpanskahladikova_danuse__15_metro_line_c_departure.wav')\n",
    "\n",
    "noise = noise[:test_signal.shape[0]][:, 1]"
   ]
  },
  {
   "cell_type": "code",
   "execution_count": 24,
   "metadata": {},
   "outputs": [],
   "source": [
    "snr_values = [-5, 0, 5, 10]\n",
    "\n",
    "for snr in snr_values:\n",
    "    mixed_signal = mixer(test_signal, noise, snr)\n",
    "\n",
    "    soundfile.write(f'../data/mixed/mixed_{snr}dB.wav', mixed_signal, SAMPLE_RATE)"
   ]
  },
  {
   "cell_type": "markdown",
   "metadata": {},
   "source": [
    "#### Считаем метрики "
   ]
  },
  {
   "cell_type": "markdown",
   "metadata": {},
   "source": [
    "##### Аналитические метрики"
   ]
  },
  {
   "cell_type": "code",
   "execution_count": 30,
   "metadata": {},
   "outputs": [],
   "source": [
    "from torchmetrics.functional.audio import signal_distortion_ratio, scale_invariant_signal_distortion_ratio\n",
    "import torch\n",
    "from pathlib import Path\n",
    "import pandas as pd"
   ]
  },
  {
   "cell_type": "code",
   "execution_count": 39,
   "metadata": {},
   "outputs": [],
   "source": [
    "path2mixed = Path('../data/mixed/')\n",
    "\n",
    "files = []\n",
    "sdrs = []\n",
    "si_sdrs = []\n",
    "\n",
    "\n",
    "for file in path2mixed.glob('*.wav'):\n",
    "    mixed_signal, _ = soundfile.read(file)\n",
    "\n",
    "    files.append(file.parts[-1])\n",
    "    sdrs.append(signal_distortion_ratio(torch.Tensor(mixed_signal), torch.Tensor(test_signal)).item())\n",
    "    si_sdrs.append(scale_invariant_signal_distortion_ratio(torch.Tensor(mixed_signal), torch.Tensor(test_signal)).item())\n",
    "\n",
    "analytic_table = pd.DataFrame({\n",
    "    'file' : files,\n",
    "    'SDR' : sdrs,\n",
    "    'SI-SDR' : si_sdrs\n",
    "})"
   ]
  },
  {
   "cell_type": "code",
   "execution_count": 40,
   "metadata": {},
   "outputs": [
    {
     "data": {
      "text/html": [
       "<div>\n",
       "<style scoped>\n",
       "    .dataframe tbody tr th:only-of-type {\n",
       "        vertical-align: middle;\n",
       "    }\n",
       "\n",
       "    .dataframe tbody tr th {\n",
       "        vertical-align: top;\n",
       "    }\n",
       "\n",
       "    .dataframe thead th {\n",
       "        text-align: right;\n",
       "    }\n",
       "</style>\n",
       "<table border=\"1\" class=\"dataframe\">\n",
       "  <thead>\n",
       "    <tr style=\"text-align: right;\">\n",
       "      <th></th>\n",
       "      <th>file</th>\n",
       "      <th>SDR</th>\n",
       "      <th>SI-SDR</th>\n",
       "    </tr>\n",
       "  </thead>\n",
       "  <tbody>\n",
       "    <tr>\n",
       "      <th>0</th>\n",
       "      <td>mixed_5dB.wav</td>\n",
       "      <td>2.975620</td>\n",
       "      <td>2.969908</td>\n",
       "    </tr>\n",
       "    <tr>\n",
       "      <th>1</th>\n",
       "      <td>mixed_-5dB.wav</td>\n",
       "      <td>-7.030280</td>\n",
       "      <td>-7.053289</td>\n",
       "    </tr>\n",
       "    <tr>\n",
       "      <th>2</th>\n",
       "      <td>mixed_0dB.wav</td>\n",
       "      <td>-2.028577</td>\n",
       "      <td>-2.038438</td>\n",
       "    </tr>\n",
       "    <tr>\n",
       "      <th>3</th>\n",
       "      <td>mixed_10dB.wav</td>\n",
       "      <td>7.978998</td>\n",
       "      <td>7.974598</td>\n",
       "    </tr>\n",
       "  </tbody>\n",
       "</table>\n",
       "</div>"
      ],
      "text/plain": [
       "             file       SDR    SI-SDR\n",
       "0   mixed_5dB.wav  2.975620  2.969908\n",
       "1  mixed_-5dB.wav -7.030280 -7.053289\n",
       "2   mixed_0dB.wav -2.028577 -2.038438\n",
       "3  mixed_10dB.wav  7.978998  7.974598"
      ]
     },
     "execution_count": 40,
     "metadata": {},
     "output_type": "execute_result"
    }
   ],
   "source": [
    "analytic_table"
   ]
  },
  {
   "cell_type": "markdown",
   "metadata": {},
   "source": [
    "##### NISQA"
   ]
  },
  {
   "cell_type": "code",
   "execution_count": 43,
   "metadata": {},
   "outputs": [
    {
     "name": "stdout",
     "output_type": "stream",
     "text": [
      "Device: cpu\n",
      "Model architecture: NISQA_DIM\n",
      "Loaded pretrained model from ../NISQA/weights/nisqa.tar\n",
      "# files: 4\n",
      "---> Predicting ...\n",
      "           deg  mos_pred  noi_pred  dis_pred  col_pred  loud_pred   model\n",
      " mixed_5dB.wav  1.465870  1.280670  4.336345  3.153044   2.823355 NISQAv2\n",
      "mixed_-5dB.wav  0.627106  1.359880  2.740413  1.221595   1.424671 NISQAv2\n",
      " mixed_0dB.wav  0.863872  1.335018  3.543309  2.061064   1.896784 NISQAv2\n",
      "mixed_10dB.wav  2.225692  1.343056  4.428701  3.637326   3.289922 NISQAv2\n"
     ]
    }
   ],
   "source": [
    "!python ../NISQA/run_predict.py --mode predict_dir --pretrained_model ../NISQA/weights/nisqa.tar --data_dir ../data/mixed/  --output_dir ../nisqa_out/"
   ]
  },
  {
   "cell_type": "markdown",
   "metadata": {},
   "source": [
    "##### DNSMOS"
   ]
  },
  {
   "cell_type": "code",
   "execution_count": 45,
   "metadata": {},
   "outputs": [
    {
     "name": "stdout",
     "output_type": "stream",
     "text": [
      "/home/alexey/dsp/DNS-Challenge/DNSMOS\n"
     ]
    },
    {
     "name": "stderr",
     "output_type": "stream",
     "text": [
      "/home/alexey/miniconda3/envs/dsp/lib/python3.10/site-packages/IPython/core/magics/osm.py:417: UserWarning: using dhist requires you to install the `pickleshare` library.\n",
      "  self.shell.db['dhist'] = compress_dhist(dhist)[-100:]\n"
     ]
    },
    {
     "name": "stdout",
     "output_type": "stream",
     "text": [
      "100%|███████████████████████████████████████████| 4/4 [00:00<00:00, 2750.81it/s]\n",
      "4it [00:01,  2.82it/s]\n",
      "/home/alexey/dsp/notebooks\n"
     ]
    }
   ],
   "source": [
    "%cd ../DNS-Challenge/DNSMOS/\n",
    "!python dnsmos_local.py -t ../../data/mixed/ -o ../../dnsmos_out/DNSMOS_results.csv\n",
    "%cd ../../notebooks"
   ]
  },
  {
   "cell_type": "markdown",
   "metadata": {},
   "source": [
    "#### Собираем все в 1 таблицу"
   ]
  },
  {
   "cell_type": "code",
   "execution_count": 56,
   "metadata": {},
   "outputs": [],
   "source": [
    "nisqa_table = pd.read_csv('../nisqa_out/NISQA_results.csv').iloc[:, :-1]\n",
    "dnsmos_table = pd.read_csv('../dnsmos_out/DNSMOS_results.csv')[['filename', 'P808_MOS']]\n",
    "\n",
    "dnsmos_table.filename = dnsmos_table.filename.apply(lambda x: x.split('/')[-1])"
   ]
  },
  {
   "cell_type": "code",
   "execution_count": 62,
   "metadata": {},
   "outputs": [],
   "source": [
    "result = pd.merge(analytic_table, nisqa_table, left_on='file', right_on='deg')\n",
    "result = pd.merge(result, dnsmos_table, left_on='file', right_on='filename')\n",
    "\n",
    "result.drop(['filename', 'deg'], axis=1, inplace=True)"
   ]
  },
  {
   "cell_type": "code",
   "execution_count": 63,
   "metadata": {},
   "outputs": [
    {
     "data": {
      "text/html": [
       "<div>\n",
       "<style scoped>\n",
       "    .dataframe tbody tr th:only-of-type {\n",
       "        vertical-align: middle;\n",
       "    }\n",
       "\n",
       "    .dataframe tbody tr th {\n",
       "        vertical-align: top;\n",
       "    }\n",
       "\n",
       "    .dataframe thead th {\n",
       "        text-align: right;\n",
       "    }\n",
       "</style>\n",
       "<table border=\"1\" class=\"dataframe\">\n",
       "  <thead>\n",
       "    <tr style=\"text-align: right;\">\n",
       "      <th></th>\n",
       "      <th>file</th>\n",
       "      <th>SDR</th>\n",
       "      <th>SI-SDR</th>\n",
       "      <th>mos_pred</th>\n",
       "      <th>noi_pred</th>\n",
       "      <th>dis_pred</th>\n",
       "      <th>col_pred</th>\n",
       "      <th>loud_pred</th>\n",
       "      <th>P808_MOS</th>\n",
       "    </tr>\n",
       "  </thead>\n",
       "  <tbody>\n",
       "    <tr>\n",
       "      <th>0</th>\n",
       "      <td>mixed_5dB.wav</td>\n",
       "      <td>2.975620</td>\n",
       "      <td>2.969908</td>\n",
       "      <td>1.465870</td>\n",
       "      <td>1.280670</td>\n",
       "      <td>4.336345</td>\n",
       "      <td>3.153045</td>\n",
       "      <td>2.823355</td>\n",
       "      <td>2.493290</td>\n",
       "    </tr>\n",
       "    <tr>\n",
       "      <th>1</th>\n",
       "      <td>mixed_-5dB.wav</td>\n",
       "      <td>-7.030280</td>\n",
       "      <td>-7.053289</td>\n",
       "      <td>0.627106</td>\n",
       "      <td>1.359880</td>\n",
       "      <td>2.740413</td>\n",
       "      <td>1.221595</td>\n",
       "      <td>1.424671</td>\n",
       "      <td>2.290628</td>\n",
       "    </tr>\n",
       "    <tr>\n",
       "      <th>2</th>\n",
       "      <td>mixed_0dB.wav</td>\n",
       "      <td>-2.028577</td>\n",
       "      <td>-2.038438</td>\n",
       "      <td>0.863872</td>\n",
       "      <td>1.335018</td>\n",
       "      <td>3.543309</td>\n",
       "      <td>2.061063</td>\n",
       "      <td>1.896784</td>\n",
       "      <td>2.432672</td>\n",
       "    </tr>\n",
       "    <tr>\n",
       "      <th>3</th>\n",
       "      <td>mixed_10dB.wav</td>\n",
       "      <td>7.978998</td>\n",
       "      <td>7.974598</td>\n",
       "      <td>2.225692</td>\n",
       "      <td>1.343056</td>\n",
       "      <td>4.428701</td>\n",
       "      <td>3.637326</td>\n",
       "      <td>3.289922</td>\n",
       "      <td>2.863240</td>\n",
       "    </tr>\n",
       "  </tbody>\n",
       "</table>\n",
       "</div>"
      ],
      "text/plain": [
       "             file       SDR    SI-SDR  mos_pred  noi_pred  dis_pred  col_pred  \\\n",
       "0   mixed_5dB.wav  2.975620  2.969908  1.465870  1.280670  4.336345  3.153045   \n",
       "1  mixed_-5dB.wav -7.030280 -7.053289  0.627106  1.359880  2.740413  1.221595   \n",
       "2   mixed_0dB.wav -2.028577 -2.038438  0.863872  1.335018  3.543309  2.061063   \n",
       "3  mixed_10dB.wav  7.978998  7.974598  2.225692  1.343056  4.428701  3.637326   \n",
       "\n",
       "   loud_pred  P808_MOS  \n",
       "0   2.823355  2.493290  \n",
       "1   1.424671  2.290628  \n",
       "2   1.896784  2.432672  \n",
       "3   3.289922  2.863240  "
      ]
     },
     "execution_count": 63,
     "metadata": {},
     "output_type": "execute_result"
    }
   ],
   "source": [
    "result"
   ]
  },
  {
   "cell_type": "markdown",
   "metadata": {},
   "source": [
    "#### Выводы"
   ]
  },
  {
   "cell_type": "markdown",
   "metadata": {},
   "source": [
    "1) Аналитичесие метрики качественно коррелируют с уровнем шума\n",
    "2) Перцептульные мтерики тоже качественно коррелируют с SNR"
   ]
  }
 ],
 "metadata": {
  "kernelspec": {
   "display_name": "dsp",
   "language": "python",
   "name": "python3"
  },
  "language_info": {
   "codemirror_mode": {
    "name": "ipython",
    "version": 3
   },
   "file_extension": ".py",
   "mimetype": "text/x-python",
   "name": "python",
   "nbconvert_exporter": "python",
   "pygments_lexer": "ipython3",
   "version": "3.10.13"
  }
 },
 "nbformat": 4,
 "nbformat_minor": 2
}
