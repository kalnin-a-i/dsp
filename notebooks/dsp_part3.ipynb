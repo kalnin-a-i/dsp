{
 "cells": [
  {
   "cell_type": "markdown",
   "metadata": {},
   "source": [
    "#### Прогоняем сгенерированные микшером сигналы через шумодав"
   ]
  },
  {
   "cell_type": "code",
   "execution_count": 1,
   "metadata": {},
   "outputs": [
    {
     "name": "stdout",
     "output_type": "stream",
     "text": [
      "/home/alexey/miniconda3/envs/dsp/lib/python3.10/site-packages/df/io.py:9: UserWarning: `torchaudio.backend.common.AudioMetaData` has been moved to `torchaudio.AudioMetaData`. Please update the import path.\n",
      "  from torchaudio.backend.common import AudioMetaData\n",
      "\u001b[32m2023-12-17 16:36:39\u001b[0m | \u001b[1mINFO    \u001b[0m | \u001b[36mDF\u001b[0m | \u001b[1mRunning on torch 2.1.2+cu121\u001b[0m\n",
      "\u001b[32m2023-12-17 16:36:39\u001b[0m | \u001b[1mINFO    \u001b[0m | \u001b[36mDF\u001b[0m | \u001b[1mRunning on host LAPTOP-61UF9EOA\u001b[0m\n",
      "fatal: not a git repository (or any of the parent directories): .git\n",
      "\u001b[32m2023-12-17 16:36:39\u001b[0m | \u001b[1mINFO    \u001b[0m | \u001b[36mDF\u001b[0m | \u001b[1mLoading model settings of DeepFilterNet3\u001b[0m\n",
      "\u001b[32m2023-12-17 16:36:39\u001b[0m | \u001b[1mINFO    \u001b[0m | \u001b[36mDF\u001b[0m | \u001b[1mUsing DeepFilterNet3 model at /home/alexey/.cache/DeepFilterNet/DeepFilterNet3\u001b[0m\n",
      "\u001b[32m2023-12-17 16:36:39\u001b[0m | \u001b[1mINFO    \u001b[0m | \u001b[36mDF\u001b[0m | \u001b[1mInitializing model `deepfilternet3`\u001b[0m\n",
      "\u001b[32m2023-12-17 16:36:39\u001b[0m | \u001b[1mINFO    \u001b[0m | \u001b[36mDF\u001b[0m | \u001b[1mFound checkpoint /home/alexey/.cache/DeepFilterNet/DeepFilterNet3/checkpoints/model_120.ckpt.best with epoch 120\u001b[0m\n",
      "\u001b[32m2023-12-17 16:36:39\u001b[0m | \u001b[1mINFO    \u001b[0m | \u001b[36mDF\u001b[0m | \u001b[1mRunning on device cpu\u001b[0m\n",
      "\u001b[32m2023-12-17 16:36:39\u001b[0m | \u001b[1mINFO    \u001b[0m | \u001b[36mDF\u001b[0m | \u001b[1mModel loaded\u001b[0m\n",
      "\u001b[32m2023-12-17 16:36:39\u001b[0m | \u001b[1mINFO    \u001b[0m | \u001b[36mDF\u001b[0m | \u001b[1m25% | Enhanced noisy audio file 'mixed_-5dB.wav' in 0.20s (RT factor: 0.020)\u001b[0m\n",
      "\u001b[32m2023-12-17 16:36:40\u001b[0m | \u001b[1mINFO    \u001b[0m | \u001b[36mDF\u001b[0m | \u001b[1m50% | Enhanced noisy audio file 'mixed_0dB.wav' in 0.16s (RT factor: 0.016)\u001b[0m\n",
      "\u001b[32m2023-12-17 16:36:40\u001b[0m | \u001b[1mINFO    \u001b[0m | \u001b[36mDF\u001b[0m | \u001b[1m75% | Enhanced noisy audio file 'mixed_10dB.wav' in 0.17s (RT factor: 0.017)\u001b[0m\n",
      "\u001b[32m2023-12-17 16:36:40\u001b[0m | \u001b[1mINFO    \u001b[0m | \u001b[36mDF\u001b[0m | \u001b[1m100% | Enhanced noisy audio file 'mixed_5dB.wav' in 0.15s (RT factor: 0.015)\u001b[0m\n"
     ]
    }
   ],
   "source": [
    "!deepFilter ../data/mixed/**.wav -o ../data/deepfilter_out"
   ]
  },
  {
   "cell_type": "markdown",
   "metadata": {},
   "source": [
    "#### Считаем метрики "
   ]
  },
  {
   "cell_type": "markdown",
   "metadata": {},
   "source": [
    "##### Аналитические метрики"
   ]
  },
  {
   "cell_type": "code",
   "execution_count": 2,
   "metadata": {},
   "outputs": [],
   "source": [
    "from torchmetrics.functional.audio import signal_distortion_ratio, scale_invariant_signal_distortion_ratio\n",
    "import torch\n",
    "from pathlib import Path\n",
    "import pandas as pd\n",
    "import soundfile"
   ]
  },
  {
   "cell_type": "code",
   "execution_count": 3,
   "metadata": {},
   "outputs": [],
   "source": [
    "SAMPLE_RATE = 48000\n",
    "\n",
    "test_signal, test_file_rate = soundfile.read('../data/test/gt.wav')"
   ]
  },
  {
   "cell_type": "code",
   "execution_count": 4,
   "metadata": {},
   "outputs": [],
   "source": [
    "path2mixed = Path('../data/deepfilter_out/')\n",
    "\n",
    "files = []\n",
    "sdrs = []\n",
    "si_sdrs = []\n",
    "\n",
    "\n",
    "for file in path2mixed.glob('*.wav'):\n",
    "    mixed_signal, _ = soundfile.read(file)\n",
    "\n",
    "    files.append(file.parts[-1])\n",
    "    sdrs.append(signal_distortion_ratio(torch.Tensor(mixed_signal), torch.Tensor(test_signal)).item())\n",
    "    si_sdrs.append(scale_invariant_signal_distortion_ratio(torch.Tensor(mixed_signal), torch.Tensor(test_signal)).item())\n",
    "\n",
    "analytic_table = pd.DataFrame({\n",
    "    'file' : files,\n",
    "    'SDR' : sdrs,\n",
    "    'SI-SDR' : si_sdrs\n",
    "})"
   ]
  },
  {
   "cell_type": "markdown",
   "metadata": {},
   "source": [
    "#### NISQA"
   ]
  },
  {
   "cell_type": "code",
   "execution_count": 5,
   "metadata": {},
   "outputs": [
    {
     "name": "stdout",
     "output_type": "stream",
     "text": [
      "Device: cpu\n",
      "Model architecture: NISQA_DIM\n",
      "Loaded pretrained model from ../NISQA/weights/nisqa.tar\n",
      "# files: 4\n",
      "---> Predicting ...\n",
      "                          deg  mos_pred  noi_pred  dis_pred  col_pred  loud_pred   model\n",
      "mixed_10dB_DeepFilterNet3.wav  4.499349  4.233055  4.534035  4.262223   4.432996 NISQAv2\n",
      "mixed_-5dB_DeepFilterNet3.wav  2.827175  2.780746  3.558901  3.208273   3.495159 NISQAv2\n",
      " mixed_5dB_DeepFilterNet3.wav  4.249021  4.064727  4.410172  4.217672   4.344702 NISQAv2\n",
      " mixed_0dB_DeepFilterNet3.wav  3.583063  3.107609  4.219398  3.949718   4.022005 NISQAv2\n"
     ]
    }
   ],
   "source": [
    "!python ../NISQA/run_predict.py --mode predict_dir --pretrained_model ../NISQA/weights/nisqa.tar --data_dir ../data/deepfilter_out/  --output_dir ../nisqa_out_deepfilter/"
   ]
  },
  {
   "cell_type": "markdown",
   "metadata": {},
   "source": [
    "#### DNSMOS"
   ]
  },
  {
   "cell_type": "code",
   "execution_count": 6,
   "metadata": {},
   "outputs": [
    {
     "name": "stdout",
     "output_type": "stream",
     "text": [
      "/home/alexey/dsp/DNS-Challenge/DNSMOS\n"
     ]
    },
    {
     "name": "stderr",
     "output_type": "stream",
     "text": [
      "/home/alexey/miniconda3/envs/dsp/lib/python3.10/site-packages/IPython/core/magics/osm.py:417: UserWarning: using dhist requires you to install the `pickleshare` library.\n",
      "  self.shell.db['dhist'] = compress_dhist(dhist)[-100:]\n"
     ]
    },
    {
     "name": "stdout",
     "output_type": "stream",
     "text": [
      "100%|███████████████████████████████████████████| 4/4 [00:00<00:00, 4029.11it/s]\n",
      "4it [00:01,  3.23it/s]\n",
      "/home/alexey/dsp/notebooks\n"
     ]
    }
   ],
   "source": [
    "%cd ../DNS-Challenge/DNSMOS/\n",
    "!python dnsmos_local.py -t ../../data/deepfilter_out/ -o ../../dnsmos_out/DNSMOS_results_deepfilter.csv\n",
    "%cd ../../notebooks"
   ]
  },
  {
   "cell_type": "markdown",
   "metadata": {},
   "source": [
    "#### Cоединяем все вместе"
   ]
  },
  {
   "cell_type": "code",
   "execution_count": 7,
   "metadata": {},
   "outputs": [],
   "source": [
    "nisqa_table = pd.read_csv('../nisqa_out_deepfilter/NISQA_results.csv').iloc[:, :-1]\n",
    "dnsmos_table = pd.read_csv('../dnsmos_out/DNSMOS_results_deepfilter.csv')[['filename', 'P808_MOS']]\n",
    "\n",
    "dnsmos_table.filename = dnsmos_table.filename.apply(lambda x: x.split('/')[-1])"
   ]
  },
  {
   "cell_type": "code",
   "execution_count": 8,
   "metadata": {},
   "outputs": [],
   "source": [
    "result_processed = pd.merge(analytic_table, nisqa_table, left_on='file', right_on='deg')\n",
    "result_processed = pd.merge(result_processed, dnsmos_table, left_on='file', right_on='filename')\n",
    "\n",
    "result_processed.drop(['filename', 'deg'], axis=1, inplace=True)\n",
    "result_processed.to_csv('../metrics/metrics_processed.csv')"
   ]
  },
  {
   "cell_type": "code",
   "execution_count": 9,
   "metadata": {},
   "outputs": [],
   "source": [
    "result = pd.read_csv('../metrics/metrics.csv')\n",
    "result_processed.file = result_processed.file.apply(lambda x: x.replace('_DeepFilterNet3', ''))\n",
    "result = pd.merge(result, result_processed, on='file', suffixes=('', '_deepfilter'))"
   ]
  },
  {
   "cell_type": "code",
   "execution_count": 10,
   "metadata": {},
   "outputs": [],
   "source": [
    "result.to_csv('../metrics/metrics_all.csv')"
   ]
  },
  {
   "cell_type": "code",
   "execution_count": 11,
   "metadata": {},
   "outputs": [
    {
     "data": {
      "text/html": [
       "<div>\n",
       "<style scoped>\n",
       "    .dataframe tbody tr th:only-of-type {\n",
       "        vertical-align: middle;\n",
       "    }\n",
       "\n",
       "    .dataframe tbody tr th {\n",
       "        vertical-align: top;\n",
       "    }\n",
       "\n",
       "    .dataframe thead th {\n",
       "        text-align: right;\n",
       "    }\n",
       "</style>\n",
       "<table border=\"1\" class=\"dataframe\">\n",
       "  <thead>\n",
       "    <tr style=\"text-align: right;\">\n",
       "      <th></th>\n",
       "      <th>file</th>\n",
       "      <th>SDR</th>\n",
       "      <th>SI-SDR</th>\n",
       "      <th>mos_pred</th>\n",
       "      <th>noi_pred</th>\n",
       "      <th>dis_pred</th>\n",
       "      <th>col_pred</th>\n",
       "      <th>loud_pred</th>\n",
       "      <th>P808_MOS</th>\n",
       "      <th>SDR_deepfilter</th>\n",
       "      <th>SI-SDR_deepfilter</th>\n",
       "      <th>mos_pred_deepfilter</th>\n",
       "      <th>noi_pred_deepfilter</th>\n",
       "      <th>dis_pred_deepfilter</th>\n",
       "      <th>col_pred_deepfilter</th>\n",
       "      <th>loud_pred_deepfilter</th>\n",
       "      <th>P808_MOS_deepfilter</th>\n",
       "    </tr>\n",
       "  </thead>\n",
       "  <tbody>\n",
       "    <tr>\n",
       "      <th>0</th>\n",
       "      <td>mixed_5dB.wav</td>\n",
       "      <td>2.975620</td>\n",
       "      <td>2.969908</td>\n",
       "      <td>1.465870</td>\n",
       "      <td>1.280670</td>\n",
       "      <td>4.336345</td>\n",
       "      <td>3.153045</td>\n",
       "      <td>2.823355</td>\n",
       "      <td>2.493290</td>\n",
       "      <td>11.319896</td>\n",
       "      <td>11.096474</td>\n",
       "      <td>4.249021</td>\n",
       "      <td>4.064727</td>\n",
       "      <td>4.410171</td>\n",
       "      <td>4.217672</td>\n",
       "      <td>4.344702</td>\n",
       "      <td>3.824382</td>\n",
       "    </tr>\n",
       "    <tr>\n",
       "      <th>1</th>\n",
       "      <td>mixed_-5dB.wav</td>\n",
       "      <td>-7.030280</td>\n",
       "      <td>-7.053289</td>\n",
       "      <td>0.627106</td>\n",
       "      <td>1.359880</td>\n",
       "      <td>2.740413</td>\n",
       "      <td>1.221595</td>\n",
       "      <td>1.424671</td>\n",
       "      <td>2.290628</td>\n",
       "      <td>2.135242</td>\n",
       "      <td>1.137534</td>\n",
       "      <td>2.827175</td>\n",
       "      <td>2.780746</td>\n",
       "      <td>3.558901</td>\n",
       "      <td>3.208273</td>\n",
       "      <td>3.495159</td>\n",
       "      <td>3.360744</td>\n",
       "    </tr>\n",
       "    <tr>\n",
       "      <th>2</th>\n",
       "      <td>mixed_0dB.wav</td>\n",
       "      <td>-2.028577</td>\n",
       "      <td>-2.038438</td>\n",
       "      <td>0.863872</td>\n",
       "      <td>1.335018</td>\n",
       "      <td>3.543309</td>\n",
       "      <td>2.061063</td>\n",
       "      <td>1.896784</td>\n",
       "      <td>2.432672</td>\n",
       "      <td>7.250568</td>\n",
       "      <td>6.819046</td>\n",
       "      <td>3.583063</td>\n",
       "      <td>3.107609</td>\n",
       "      <td>4.219398</td>\n",
       "      <td>3.949718</td>\n",
       "      <td>4.022005</td>\n",
       "      <td>3.402583</td>\n",
       "    </tr>\n",
       "    <tr>\n",
       "      <th>3</th>\n",
       "      <td>mixed_10dB.wav</td>\n",
       "      <td>7.978998</td>\n",
       "      <td>7.974598</td>\n",
       "      <td>2.225692</td>\n",
       "      <td>1.343056</td>\n",
       "      <td>4.428701</td>\n",
       "      <td>3.637326</td>\n",
       "      <td>3.289922</td>\n",
       "      <td>2.863240</td>\n",
       "      <td>14.971176</td>\n",
       "      <td>14.806463</td>\n",
       "      <td>4.499349</td>\n",
       "      <td>4.233055</td>\n",
       "      <td>4.534035</td>\n",
       "      <td>4.262223</td>\n",
       "      <td>4.432996</td>\n",
       "      <td>3.990213</td>\n",
       "    </tr>\n",
       "  </tbody>\n",
       "</table>\n",
       "</div>"
      ],
      "text/plain": [
       "             file       SDR    SI-SDR  mos_pred  noi_pred  dis_pred  col_pred  \\\n",
       "0   mixed_5dB.wav  2.975620  2.969908  1.465870  1.280670  4.336345  3.153045   \n",
       "1  mixed_-5dB.wav -7.030280 -7.053289  0.627106  1.359880  2.740413  1.221595   \n",
       "2   mixed_0dB.wav -2.028577 -2.038438  0.863872  1.335018  3.543309  2.061063   \n",
       "3  mixed_10dB.wav  7.978998  7.974598  2.225692  1.343056  4.428701  3.637326   \n",
       "\n",
       "   loud_pred  P808_MOS  SDR_deepfilter  SI-SDR_deepfilter  \\\n",
       "0   2.823355  2.493290       11.319896          11.096474   \n",
       "1   1.424671  2.290628        2.135242           1.137534   \n",
       "2   1.896784  2.432672        7.250568           6.819046   \n",
       "3   3.289922  2.863240       14.971176          14.806463   \n",
       "\n",
       "   mos_pred_deepfilter  noi_pred_deepfilter  dis_pred_deepfilter  \\\n",
       "0             4.249021             4.064727             4.410171   \n",
       "1             2.827175             2.780746             3.558901   \n",
       "2             3.583063             3.107609             4.219398   \n",
       "3             4.499349             4.233055             4.534035   \n",
       "\n",
       "   col_pred_deepfilter  loud_pred_deepfilter  P808_MOS_deepfilter  \n",
       "0             4.217672              4.344702             3.824382  \n",
       "1             3.208273              3.495159             3.360744  \n",
       "2             3.949718              4.022005             3.402583  \n",
       "3             4.262223              4.432996             3.990213  "
      ]
     },
     "execution_count": 11,
     "metadata": {},
     "output_type": "execute_result"
    }
   ],
   "source": [
    "result"
   ]
  },
  {
   "cell_type": "markdown",
   "metadata": {},
   "source": [
    "#### Выводы"
   ]
  },
  {
   "cell_type": "markdown",
   "metadata": {},
   "source": [
    "1) Перцептульный метрики в частоности mos пердсказанный NISQA и DNSMOS улучшились\n",
    "2) Аналитические метрики в виде SDR и SI-SDR тоже показали прирост"
   ]
  }
 ],
 "metadata": {
  "kernelspec": {
   "display_name": "dsp",
   "language": "python",
   "name": "python3"
  },
  "language_info": {
   "codemirror_mode": {
    "name": "ipython",
    "version": 3
   },
   "file_extension": ".py",
   "mimetype": "text/x-python",
   "name": "python",
   "nbconvert_exporter": "python",
   "pygments_lexer": "ipython3",
   "version": "3.10.13"
  }
 },
 "nbformat": 4,
 "nbformat_minor": 2
}
