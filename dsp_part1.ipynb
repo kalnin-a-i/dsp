{
 "cells": [
  {
   "cell_type": "code",
   "execution_count": 1,
   "metadata": {},
   "outputs": [],
   "source": [
    "import soundfile\n",
    "import matplotlib.pyplot as plt"
   ]
  },
  {
   "cell_type": "markdown",
   "metadata": {},
   "source": [
    "### Get equalizer coefs"
   ]
  },
  {
   "cell_type": "markdown",
   "metadata": {},
   "source": [
    "#### Read files"
   ]
  },
  {
   "cell_type": "code",
   "execution_count": 2,
   "metadata": {},
   "outputs": [],
   "source": [
    "sweeper_original = soundfile.read('data/sweeper_original.wav')\n",
    "sweeper_wardrope = soundfile.read('data/sweeper_wardrope.wav')\n",
    "sweeper_speaker = soundfile.read('data/sweeper_speaker.wav')"
   ]
  },
  {
   "cell_type": "markdown",
   "metadata": {},
   "source": [
    "#### Get equalizer coefs "
   ]
  },
  {
   "cell_type": "code",
   "execution_count": 3,
   "metadata": {},
   "outputs": [],
   "source": [
    "from dsp.equalizer import *"
   ]
  },
  {
   "cell_type": "code",
   "execution_count": 4,
   "metadata": {},
   "outputs": [
    {
     "name": "stderr",
     "output_type": "stream",
     "text": [
      "/home/nadezhda/dsp/dsp/equalizer.py:26: RuntimeWarning: Mean of empty slice.\n",
      "  mean_speaker[i] = fft_speaker[(freqs_speaker < bands[i]) & ((freqs_speaker > bands[i-1]))].mean()\n",
      "/home/nadezhda/miniconda3/envs/dsp_hw/lib/python3.10/site-packages/numpy/core/_methods.py:129: RuntimeWarning: invalid value encountered in scalar divide\n",
      "  ret = ret.dtype.type(ret / rcount)\n",
      "/home/nadezhda/dsp/dsp/equalizer.py:28: RuntimeWarning: invalid value encountered in divide\n",
      "  eqaulizer_coefs = mean_speaker / mean_original\n"
     ]
    }
   ],
   "source": [
    "eqaulizer_coefs, bands = get_equalizer(sweeper_original, sweeper_speaker, num_bands=128)"
   ]
  },
  {
   "cell_type": "markdown",
   "metadata": {},
   "source": [
    "#### Check equalizer with sweeper"
   ]
  },
  {
   "cell_type": "code",
   "execution_count": 5,
   "metadata": {},
   "outputs": [],
   "source": [
    "equal_signal = apply_equaizer(sweeper_speaker, eqaulizer_coefs, bands)"
   ]
  },
  {
   "cell_type": "code",
   "execution_count": 20,
   "metadata": {},
   "outputs": [],
   "source": [
    "freq_or = fftfreq(len(sweeper_original[0]), 1/sweeper_original[1])\n",
    "freqs_sp = fftfreq(len(sweeper_speaker[0]), 1/sweeper_speaker[1])\n",
    "fft_eq = fftfreq(len(equal_signal), 1/sweeper_speaker[1])"
   ]
  },
  {
   "cell_type": "code",
   "execution_count": 25,
   "metadata": {},
   "outputs": [
    {
     "data": {
      "text/plain": [
       "[<matplotlib.lines.Line2D at 0x7f224ff2ab90>]"
      ]
     },
     "execution_count": 25,
     "metadata": {},
     "output_type": "execute_result"
    },
    {
     "data": {
      "image/png": "[encoded data removed]",
      "text/plain": [
       "<Figure size 640x480 with 1 Axes>"
      ]
     },
     "metadata": {},
     "output_type": "display_data"
    }
   ],
   "source": [
    "# plt.plot(freq_or, fft(sweeper_original[0]))\n",
    "plt.plot(freqs_sp, fft(sweeper_speaker[0]))\n",
    "plt.plot(fft_eq, fft(equal_signal))"
   ]
  },
  {
   "cell_type": "markdown",
   "metadata": {},
   "source": [
    "### Apply equalizer to white noise "
   ]
  },
  {
   "cell_type": "code",
   "execution_count": 7,
   "metadata": {},
   "outputs": [],
   "source": [
    "white_noise = soundfile.read('data/370830__deleted_user_5959249__white-noise.wav')"
   ]
  },
  {
   "cell_type": "code",
   "execution_count": 26,
   "metadata": {},
   "outputs": [
    {
     "name": "stderr",
     "output_type": "stream",
     "text": [
      "/home/nadezhda/dsp/dsp/equalizer.py:39: RuntimeWarning: invalid value encountered in divide\n",
      "  fft_speaker[(freqs_speaker < bands[i]) & ((freqs_speaker > bands[i-1]))] /= equalizer_coefs[i]\n"
     ]
    }
   ],
   "source": [
    "white_noise_equalized = apply_equaizer(white_noise, eqaulizer_coefs, bands)"
   ]
  },
  {
   "cell_type": "code",
   "execution_count": 37,
   "metadata": {},
   "outputs": [
    {
     "data": {
      "text/plain": [
       "array([[ 0.19332886,  0.19720459],\n",
       "       [-0.7727356 ,  0.0864563 ],\n",
       "       [ 0.30047607,  0.93988037],\n",
       "       ...,\n",
       "       [ 0.50564575,  0.50790405],\n",
       "       [ 0.37228394, -0.12661743],\n",
       "       [ 0.60202026, -0.19692993]])"
      ]
     },
     "execution_count": 37,
     "metadata": {},
     "output_type": "execute_result"
    }
   ],
   "source": [
    "white_noise_equalized.real"
   ]
  },
  {
   "cell_type": "code",
   "execution_count": 38,
   "metadata": {},
   "outputs": [],
   "source": [
    "soundfile.write('data/equalized_white_noise.wav', white_noise_equalized.real,  48000, )"
   ]
  },
  {
   "cell_type": "code",
   "execution_count": null,
   "metadata": {},
   "outputs": [],
   "source": []
  }
 ],
 "metadata": {
  "kernelspec": {
   "display_name": "dsp_hw",
   "language": "python",
   "name": "python3"
  },
  "language_info": {
   "codemirror_mode": {
    "name": "ipython",
    "version": 3
   },
   "file_extension": ".py",
   "mimetype": "text/x-python",
   "name": "python",
   "nbconvert_exporter": "python",
   "pygments_lexer": "ipython3",
   "version": "3.10.13"
  },
  "orig_nbformat": 4
 },
 "nbformat": 4,
 "nbformat_minor": 2
}
