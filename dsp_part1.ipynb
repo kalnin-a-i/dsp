{
 "cells": [
  {
   "cell_type": "code",
   "execution_count": 1,
   "metadata": {},
   "outputs": [],
   "source": [
    "import soundfile\n",
    "import matplotlib.pyplot as plt"
   ]
  },
  {
   "cell_type": "markdown",
   "metadata": {},
   "source": [
    "### Get equalizer coefs"
   ]
  },
  {
   "cell_type": "markdown",
   "metadata": {},
   "source": [
    "#### Read files"
   ]
  },
  {
   "cell_type": "code",
   "execution_count": 32,
   "metadata": {},
   "outputs": [],
   "source": [
    "sweeper_original, sweeper_original_sample_rate = soundfile.read('data/sweeper//sweeper_original.wav')\n",
    "sweeper_recorded, sweeper_recorded_sample_rate = soundfile.read('data/sweeper/sweeper_recorded.wav')"
   ]
  },
  {
   "cell_type": "markdown",
   "metadata": {},
   "source": [
    "#### Get equalizer coefs "
   ]
  },
  {
   "cell_type": "code",
   "execution_count": 30,
   "metadata": {},
   "outputs": [],
   "source": [
    "from dsp.equalizer import *"
   ]
  },
  {
   "cell_type": "code",
   "execution_count": 33,
   "metadata": {},
   "outputs": [
    {
     "name": "stderr",
     "output_type": "stream",
     "text": [
      "/home/alexey/dsp/dsp/equalizer.py:30: RuntimeWarning: Mean of empty slice.\n",
      "  mean_speaker[i] = fft_speaker[(freqs_speaker < bands[i]) & ((freqs_speaker > bands[i-1]))].mean()\n",
      "/home/alexey/miniconda3/envs/dsp/lib/python3.10/site-packages/numpy/core/_methods.py:129: RuntimeWarning: invalid value encountered in scalar divide\n",
      "  ret = ret.dtype.type(ret / rcount)\n",
      "/home/alexey/dsp/dsp/equalizer.py:32: RuntimeWarning: invalid value encountered in divide\n",
      "  eqaulizer_coefs = mean_speaker / mean_original\n"
     ]
    }
   ],
   "source": [
    "eqaulizer_coefs, bands = get_equalizer(sweeper_original, \n",
    "                                        sweeper_original_sample_rate,\n",
    "                                        sweeper_recorded,\n",
    "                                        sweeper_recorded_sample_rate,\n",
    "                                        num_bands=128)"
   ]
  },
  {
   "cell_type": "markdown",
   "metadata": {},
   "source": [
    "#### Check equalizer with sweeper"
   ]
  },
  {
   "cell_type": "code",
   "execution_count": 48,
   "metadata": {},
   "outputs": [],
   "source": [
    "equal_signal, fft_equal = apply_equaizer(sweeper_recorded, sweeper_recorded_sample_rate,  eqaulizer_coefs, bands)"
   ]
  },
  {
   "cell_type": "code",
   "execution_count": 49,
   "metadata": {},
   "outputs": [
    {
     "data": {
      "text/plain": [
       "1218812"
      ]
     },
     "execution_count": 49,
     "metadata": {},
     "output_type": "execute_result"
    }
   ],
   "source": [
    "len(equal_signal)"
   ]
  },
  {
   "cell_type": "code",
   "execution_count": 45,
   "metadata": {},
   "outputs": [],
   "source": [
    "freq_or = fftfreq(len(sweeper_original), 1/sweeper_original_sample_rate)\n",
    "freqs_sp = fftfreq(len(sweeper_recorded), 1/sweeper_recorded_sample_rate)\n",
    "fft_eq = fftfreq(len(equal_signal), 1/sweeper_recorded_sample_rate)"
   ]
  },
  {
   "cell_type": "code",
   "execution_count": 54,
   "metadata": {},
   "outputs": [
    {
     "data": {
      "text/plain": [
       "(array([0., 0., 0., ..., 0., 0., 0.]), 44100)"
      ]
     },
     "execution_count": 54,
     "metadata": {},
     "output_type": "execute_result"
    }
   ],
   "source": [
    "sweeper_speaker"
   ]
  },
  {
   "cell_type": "code",
   "execution_count": 55,
   "metadata": {},
   "outputs": [
    {
     "name": "stderr",
     "output_type": "stream",
     "text": [
      "/home/alexey/miniconda3/envs/dsp/lib/python3.10/site-packages/matplotlib/cbook.py:1699: ComplexWarning: Casting complex values to real discards the imaginary part\n",
      "  return math.isfinite(val)\n",
      "/home/alexey/miniconda3/envs/dsp/lib/python3.10/site-packages/matplotlib/cbook.py:1345: ComplexWarning: Casting complex values to real discards the imaginary part\n",
      "  return np.asarray(x, float)\n"
     ]
    },
    {
     "data": {
      "text/plain": [
       "[<matplotlib.lines.Line2D at 0x7f1b592125c0>]"
      ]
     },
     "execution_count": 55,
     "metadata": {},
     "output_type": "execute_result"
    },
    {
     "data": {
      "image/png": "[encoded data removed]",
      "text/plain": [
       "<Figure size 640x480 with 1 Axes>"
      ]
     },
     "metadata": {},
     "output_type": "display_data"
    }
   ],
   "source": [
    "plt.plot(freq_or, fft(sweeper_original).real)\n",
    "plt.plot(freqs_sp, fft(sweeper_recorded).real)\n",
    "plt.plot(fft_eq, fft(equal_signal))"
   ]
  },
  {
   "cell_type": "markdown",
   "metadata": {},
   "source": [
    "### Apply equalizer to white noise "
   ]
  },
  {
   "cell_type": "code",
   "execution_count": 58,
   "metadata": {},
   "outputs": [],
   "source": [
    "white_noise, noise_rate = soundfile.read('data/white_noise/370830__deleted_user_5959249__white-noise.wav')"
   ]
  },
  {
   "cell_type": "code",
   "execution_count": 61,
   "metadata": {},
   "outputs": [
    {
     "name": "stderr",
     "output_type": "stream",
     "text": [
      "/home/alexey/dsp/dsp/equalizer.py:43: RuntimeWarning: invalid value encountered in divide\n",
      "  fft_speaker[(freqs_speaker < bands[i]) & ((freqs_speaker > bands[i-1]))] /= equalizer_coefs[i]\n"
     ]
    }
   ],
   "source": [
    "white_noise_equalized, white_noise_fft = apply_equaizer(white_noise, noise_rate, eqaulizer_coefs, bands)"
   ]
  },
  {
   "cell_type": "code",
   "execution_count": 62,
   "metadata": {},
   "outputs": [
    {
     "data": {
      "text/plain": [
       "array([[ 0.19332886,  0.19720459],\n",
       "       [-0.7727356 ,  0.0864563 ],\n",
       "       [ 0.30047607,  0.93988037],\n",
       "       ...,\n",
       "       [ 0.50564575,  0.50790405],\n",
       "       [ 0.37228394, -0.12661743],\n",
       "       [ 0.60202026, -0.19692993]])"
      ]
     },
     "execution_count": 62,
     "metadata": {},
     "output_type": "execute_result"
    }
   ],
   "source": [
    "white_noise_equalized.real"
   ]
  },
  {
   "cell_type": "code",
   "execution_count": 63,
   "metadata": {},
   "outputs": [],
   "source": [
    "soundfile.write('data/white_noise/equalized_white_noise.wav', white_noise_equalized.real,  48000, )"
   ]
  },
  {
   "cell_type": "markdown",
   "metadata": {},
   "source": [
    "### Get impulse response"
   ]
  },
  {
   "cell_type": "code",
   "execution_count": 64,
   "metadata": {},
   "outputs": [],
   "source": [
    "from scipy.signal import deconvolve"
   ]
  },
  {
   "cell_type": "code",
   "execution_count": 100,
   "metadata": {},
   "outputs": [],
   "source": [
    "white_noise_recorded, white_noise_recorded_rate = soundfile.read('data/white_noise/white_noise_recorded.wav')"
   ]
  },
  {
   "cell_type": "code",
   "execution_count": 101,
   "metadata": {},
   "outputs": [],
   "source": [
    "# aligment\n",
    "start_index = (np.abs(white_noise_recorded) > 0.01).argmax()\n",
    "white_noise_recorded = white_noise[start_index:]"
   ]
  },
  {
   "cell_type": "code",
   "execution_count": 98,
   "metadata": {},
   "outputs": [
    {
     "ename": "KeyboardInterrupt",
     "evalue": "",
     "output_type": "error",
     "traceback": [
      "\u001b[0;31m---------------------------------------------------------------------------\u001b[0m",
      "\u001b[0;31mKeyboardInterrupt\u001b[0m                         Traceback (most recent call last)",
      "Cell \u001b[0;32mIn[98], line 1\u001b[0m\n\u001b[0;32m----> 1\u001b[0m response \u001b[38;5;241m=\u001b[39m \u001b[43mdeconvolve\u001b[49m\u001b[43m(\u001b[49m\u001b[43mwhite_noise_recorded\u001b[49m\u001b[43m,\u001b[49m\u001b[43m \u001b[49m\u001b[43mwhite_noise\u001b[49m\u001b[43m[\u001b[49m\u001b[43m:\u001b[49m\u001b[43m,\u001b[49m\u001b[43m \u001b[49m\u001b[38;5;241;43m1\u001b[39;49m\u001b[43m]\u001b[49m\u001b[43m)\u001b[49m\n",
      "File \u001b[0;32m~/miniconda3/envs/dsp/lib/python3.10/site-packages/scipy/signal/_signaltools.py:2292\u001b[0m, in \u001b[0;36mdeconvolve\u001b[0;34m(signal, divisor)\u001b[0m\n\u001b[1;32m   2290\u001b[0m     \u001b[38;5;28minput\u001b[39m \u001b[38;5;241m=\u001b[39m np\u001b[38;5;241m.\u001b[39mzeros(N \u001b[38;5;241m-\u001b[39m D \u001b[38;5;241m+\u001b[39m \u001b[38;5;241m1\u001b[39m, \u001b[38;5;28mfloat\u001b[39m)\n\u001b[1;32m   2291\u001b[0m     \u001b[38;5;28minput\u001b[39m[\u001b[38;5;241m0\u001b[39m] \u001b[38;5;241m=\u001b[39m \u001b[38;5;241m1\u001b[39m\n\u001b[0;32m-> 2292\u001b[0m     quot \u001b[38;5;241m=\u001b[39m \u001b[43mlfilter\u001b[49m\u001b[43m(\u001b[49m\u001b[43mnum\u001b[49m\u001b[43m,\u001b[49m\u001b[43m \u001b[49m\u001b[43mden\u001b[49m\u001b[43m,\u001b[49m\u001b[43m \u001b[49m\u001b[38;5;28;43minput\u001b[39;49m\u001b[43m)\u001b[49m\n\u001b[1;32m   2293\u001b[0m     rem \u001b[38;5;241m=\u001b[39m num \u001b[38;5;241m-\u001b[39m convolve(den, quot, mode\u001b[38;5;241m=\u001b[39m\u001b[38;5;124m'\u001b[39m\u001b[38;5;124mfull\u001b[39m\u001b[38;5;124m'\u001b[39m)\n\u001b[1;32m   2294\u001b[0m \u001b[38;5;28;01mreturn\u001b[39;00m quot, rem\n",
      "File \u001b[0;32m~/miniconda3/envs/dsp/lib/python3.10/site-packages/scipy/signal/_signaltools.py:2154\u001b[0m, in \u001b[0;36mlfilter\u001b[0;34m(b, a, x, axis, zi)\u001b[0m\n\u001b[1;32m   2152\u001b[0m \u001b[38;5;28;01melse\u001b[39;00m:\n\u001b[1;32m   2153\u001b[0m     \u001b[38;5;28;01mif\u001b[39;00m zi \u001b[38;5;129;01mis\u001b[39;00m \u001b[38;5;28;01mNone\u001b[39;00m:\n\u001b[0;32m-> 2154\u001b[0m         \u001b[38;5;28;01mreturn\u001b[39;00m \u001b[43m_sigtools\u001b[49m\u001b[38;5;241;43m.\u001b[39;49m\u001b[43m_linear_filter\u001b[49m\u001b[43m(\u001b[49m\u001b[43mb\u001b[49m\u001b[43m,\u001b[49m\u001b[43m \u001b[49m\u001b[43ma\u001b[49m\u001b[43m,\u001b[49m\u001b[43m \u001b[49m\u001b[43mx\u001b[49m\u001b[43m,\u001b[49m\u001b[43m \u001b[49m\u001b[43maxis\u001b[49m\u001b[43m)\u001b[49m\n\u001b[1;32m   2155\u001b[0m     \u001b[38;5;28;01melse\u001b[39;00m:\n\u001b[1;32m   2156\u001b[0m         \u001b[38;5;28;01mreturn\u001b[39;00m _sigtools\u001b[38;5;241m.\u001b[39m_linear_filter(b, a, x, axis, zi)\n",
      "\u001b[0;31mKeyboardInterrupt\u001b[0m: "
     ]
    }
   ],
   "source": [
    "response = deconvolve(white_noise_recorded, white_noise[:, 1])"
   ]
  },
  {
   "cell_type": "code",
   "execution_count": 103,
   "metadata": {},
   "outputs": [
    {
     "data": {
      "text/plain": [
       "62124"
      ]
     },
     "execution_count": 103,
     "metadata": {},
     "output_type": "execute_result"
    }
   ],
   "source": [
    "start_index"
   ]
  },
  {
   "cell_type": "code",
   "execution_count": 102,
   "metadata": {},
   "outputs": [
    {
     "data": {
      "text/plain": [
       "(177876, 2)"
      ]
     },
     "execution_count": 102,
     "metadata": {},
     "output_type": "execute_result"
    }
   ],
   "source": [
    "white_noise_recorded.shape"
   ]
  },
  {
   "cell_type": "code",
   "execution_count": null,
   "metadata": {},
   "outputs": [],
   "source": []
  }
 ],
 "metadata": {
  "kernelspec": {
   "display_name": "dsp_hw",
   "language": "python",
   "name": "python3"
  },
  "language_info": {
   "codemirror_mode": {
    "name": "ipython",
    "version": 3
   },
   "file_extension": ".py",
   "mimetype": "text/x-python",
   "name": "python",
   "nbconvert_exporter": "python",
   "pygments_lexer": "ipython3",
   "version": "3.10.13"
  },
  "orig_nbformat": 4
 },
 "nbformat": 4,
 "nbformat_minor": 2
}
